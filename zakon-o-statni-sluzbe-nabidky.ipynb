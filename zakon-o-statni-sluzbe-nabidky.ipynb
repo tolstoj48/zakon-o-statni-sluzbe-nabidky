{
 "cells": [
  {
   "cell_type": "markdown",
   "id": "9a3a295d-a1d1-4eb0-983e-f1f01c5e0f03",
   "metadata": {},
   "source": [
    "### Stažení zdrojového souboru .xml do lokálního adresáře"
   ]
  },
  {
   "cell_type": "code",
   "execution_count": 1,
   "id": "10b21fb9-9f5c-4a6f-a988-5a3afd451721",
   "metadata": {},
   "outputs": [
    {
     "data": {
      "text/plain": [
       "('ISoSS_Opendata_EOSM.xml', <http.client.HTTPMessage at 0x260fb3a5ee0>)"
      ]
     },
     "execution_count": 1,
     "metadata": {},
     "output_type": "execute_result"
    }
   ],
   "source": [
    "from urllib.request import urlretrieve\n",
    "\n",
    "url = \"https://portal.isoss.cz/opendata/ISoSS_Opendata_EOSM.xml\"\n",
    "local_filename = \"ISoSS_Opendata_EOSM.xml\"\n",
    "urlretrieve(url, local_filename)"
   ]
  },
  {
   "cell_type": "markdown",
   "id": "1dcb8387-6d6d-4e22-95bd-13333ca0c74d",
   "metadata": {},
   "source": [
    "### Import knihoven, parsování xml a vytvoření dataframe"
   ]
  },
  {
   "cell_type": "code",
   "execution_count": 2,
   "id": "d03f5921-ed27-45e4-8e59-6ef09c7d1913",
   "metadata": {},
   "outputs": [
    {
     "data": {
      "text/html": [
       "<div>\n",
       "<style scoped>\n",
       "    .dataframe tbody tr th:only-of-type {\n",
       "        vertical-align: middle;\n",
       "    }\n",
       "\n",
       "    .dataframe tbody tr th {\n",
       "        vertical-align: top;\n",
       "    }\n",
       "\n",
       "    .dataframe thead th {\n",
       "        text-align: right;\n",
       "    }\n",
       "</style>\n",
       "<table border=\"1\" class=\"dataframe\">\n",
       "  <thead>\n",
       "    <tr style=\"text-align: right;\">\n",
       "      <th></th>\n",
       "      <th>nazev_obce</th>\n",
       "      <th>nazev</th>\n",
       "      <th>oddeleni_odbor</th>\n",
       "      <th>uvazek_vyse</th>\n",
       "      <th>platova_trida</th>\n",
       "      <th>prace_od</th>\n",
       "      <th>min_vzdelani</th>\n",
       "      <th>nabidka_platna_do</th>\n",
       "      <th>doba_ne/urcita</th>\n",
       "      <th>zadost_podani_organizace</th>\n",
       "    </tr>\n",
       "  </thead>\n",
       "  <tbody>\n",
       "    <tr>\n",
       "      <th>0</th>\n",
       "      <td>Praha</td>\n",
       "      <td>3038 - vrchní vládní rada</td>\n",
       "      <td>Oddělení koncepcí, strategií a programů</td>\n",
       "      <td>1.0</td>\n",
       "      <td>14</td>\n",
       "      <td>2024-09-02</td>\n",
       "      <td>magisterský studijní program</td>\n",
       "      <td>2024-08-14</td>\n",
       "      <td>doba neurčitá</td>\n",
       "      <td>Úřad vlády ČR</td>\n",
       "    </tr>\n",
       "    <tr>\n",
       "      <th>1</th>\n",
       "      <td>Praha</td>\n",
       "      <td>2163 - vrchní referent</td>\n",
       "      <td>Oddělení vnitřní bezpečnosti</td>\n",
       "      <td>1.0</td>\n",
       "      <td>10</td>\n",
       "      <td>2024-09-15</td>\n",
       "      <td>vyšší odb. vzdělání/bakalářský st. prog.</td>\n",
       "      <td>2024-08-16</td>\n",
       "      <td>doba neurčitá</td>\n",
       "      <td>Úřad vlády České republiky</td>\n",
       "    </tr>\n",
       "    <tr>\n",
       "      <th>2</th>\n",
       "      <td>Praha</td>\n",
       "      <td>2466 - vládní rada</td>\n",
       "      <td>Oddělení interního auditu a kontroly</td>\n",
       "      <td>1.0</td>\n",
       "      <td>13</td>\n",
       "      <td>2024-09-01</td>\n",
       "      <td>magisterský studijní program</td>\n",
       "      <td>2024-08-16</td>\n",
       "      <td>doba neurčitá</td>\n",
       "      <td>Úřad vlády České republiky</td>\n",
       "    </tr>\n",
       "    <tr>\n",
       "      <th>3</th>\n",
       "      <td>Praha</td>\n",
       "      <td>2465 - vládní rada</td>\n",
       "      <td>Oddělení interního auditu a kontroly</td>\n",
       "      <td>1.0</td>\n",
       "      <td>13</td>\n",
       "      <td>2024-09-01</td>\n",
       "      <td>magisterský studijní program</td>\n",
       "      <td>2024-08-16</td>\n",
       "      <td>doba neurčitá</td>\n",
       "      <td>Úřad vlády České republiky</td>\n",
       "    </tr>\n",
       "    <tr>\n",
       "      <th>4</th>\n",
       "      <td>Praha</td>\n",
       "      <td>3093 - vládní rada</td>\n",
       "      <td>Odd. koord. a fin. protidr. politiky</td>\n",
       "      <td>1.0</td>\n",
       "      <td>13</td>\n",
       "      <td>2024-09-16</td>\n",
       "      <td>magisterský studijní program</td>\n",
       "      <td>2024-08-21</td>\n",
       "      <td>doba neurčitá</td>\n",
       "      <td>Úřad vlády České republiky</td>\n",
       "    </tr>\n",
       "  </tbody>\n",
       "</table>\n",
       "</div>"
      ],
      "text/plain": [
       "  nazev_obce                      nazev  \\\n",
       "0      Praha  3038 - vrchní vládní rada   \n",
       "1      Praha     2163 - vrchní referent   \n",
       "2      Praha         2466 - vládní rada   \n",
       "3      Praha         2465 - vládní rada   \n",
       "4      Praha         3093 - vládní rada   \n",
       "\n",
       "                            oddeleni_odbor uvazek_vyse platova_trida  \\\n",
       "0  Oddělení koncepcí, strategií a programů         1.0            14   \n",
       "1             Oddělení vnitřní bezpečnosti         1.0            10   \n",
       "2     Oddělení interního auditu a kontroly         1.0            13   \n",
       "3     Oddělení interního auditu a kontroly         1.0            13   \n",
       "4     Odd. koord. a fin. protidr. politiky         1.0            13   \n",
       "\n",
       "     prace_od                              min_vzdelani nabidka_platna_do  \\\n",
       "0  2024-09-02              magisterský studijní program        2024-08-14   \n",
       "1  2024-09-15  vyšší odb. vzdělání/bakalářský st. prog.        2024-08-16   \n",
       "2  2024-09-01              magisterský studijní program        2024-08-16   \n",
       "3  2024-09-01              magisterský studijní program        2024-08-16   \n",
       "4  2024-09-16              magisterský studijní program        2024-08-21   \n",
       "\n",
       "  doba_ne/urcita    zadost_podani_organizace  \n",
       "0  doba neurčitá               Úřad vlády ČR  \n",
       "1  doba neurčitá  Úřad vlády České republiky  \n",
       "2  doba neurčitá  Úřad vlády České republiky  \n",
       "3  doba neurčitá  Úřad vlády České republiky  \n",
       "4  doba neurčitá  Úřad vlády České republiky  "
      ]
     },
     "execution_count": 2,
     "metadata": {},
     "output_type": "execute_result"
    }
   ],
   "source": [
    "import pandas as pd\n",
    "import xml.etree.cElementTree as ET\n",
    "\n",
    "tree = ET.parse(\"ISoSS_Opendata_EOSM.xml\")\n",
    "root = tree.getroot()\n",
    "\n",
    "result = []\n",
    "radek = []\n",
    "\n",
    "for child in root:\n",
    "        # nazev_obce\n",
    "        radek.append(child[2][1].text)\n",
    "        # nazev (místa)\n",
    "        radek.append(child[3].text.strip().lower())\n",
    "        # popis (místa)\n",
    "        radek.append(child[4].text)\n",
    "        # uvazek_vyse\n",
    "        radek.append(child[5].text)\n",
    "        # platova_trida\n",
    "        radek.append(child[6].text)\n",
    "        # prace_od\n",
    "        radek.append(child[7].text)\n",
    "        # min_vzdelani\n",
    "        radek.append(child[8].text)\n",
    "        # nabidka_platna_do\n",
    "        radek.append(child[9].text)\n",
    "        # 12 doba_urcita\n",
    "        if child[12].tag.find(\"Doba\") != -1:\n",
    "            radek.append(child[12][1].text)\n",
    "        else:\n",
    "            radek.append(\"doba neurčitá\")\n",
    "        # 17 1 zadost_podani_organizace\n",
    "        for elem in child.iter():\n",
    "            if elem.tag.find(\"ZadostPodaniMisto\") != -1:\n",
    "                radek.append(elem[0].text)\n",
    "        result.append(radek)\n",
    "        radek = []\n",
    "\n",
    "df = pd.DataFrame(data=result, columns=[\"nazev_obce\", \n",
    "                                        \"nazev\", \n",
    "                                        \"oddeleni_odbor\", \n",
    "                                        \"uvazek_vyse\", \n",
    "                                        \"platova_trida\", \n",
    "                                        \"prace_od\", \n",
    "                                        \"min_vzdelani\", \n",
    "                                        \"nabidka_platna_do\",\n",
    "                                        \"doba_ne/urcita\",\n",
    "                                        \"zadost_podani_organizace\"\n",
    "                                       ])\n",
    "df.head()"
   ]
  },
  {
   "cell_type": "code",
   "execution_count": 3,
   "id": "b55b0838-e9a6-4e8d-a9b9-9b7126c240ab",
   "metadata": {},
   "outputs": [
    {
     "name": "stdout",
     "output_type": "stream",
     "text": [
      "<class 'pandas.core.frame.DataFrame'>\n",
      "RangeIndex: 465 entries, 0 to 464\n",
      "Data columns (total 10 columns):\n",
      " #   Column                    Non-Null Count  Dtype \n",
      "---  ------                    --------------  ----- \n",
      " 0   nazev_obce                465 non-null    object\n",
      " 1   nazev                     465 non-null    object\n",
      " 2   oddeleni_odbor            465 non-null    object\n",
      " 3   uvazek_vyse               465 non-null    object\n",
      " 4   platova_trida             465 non-null    object\n",
      " 5   prace_od                  465 non-null    object\n",
      " 6   min_vzdelani              465 non-null    object\n",
      " 7   nabidka_platna_do         465 non-null    object\n",
      " 8   doba_ne/urcita            465 non-null    object\n",
      " 9   zadost_podani_organizace  465 non-null    object\n",
      "dtypes: object(10)\n",
      "memory usage: 36.5+ KB\n"
     ]
    }
   ],
   "source": [
    "df.info()"
   ]
  },
  {
   "cell_type": "markdown",
   "id": "7a3b16ba-bf69-4c3f-bb0d-76c520e88c78",
   "metadata": {},
   "source": [
    "### Vyhledávání pomocí pozice"
   ]
  },
  {
   "cell_type": "code",
   "execution_count": null,
   "id": "c40b344d-3593-4982-968e-895d012ed159",
   "metadata": {},
   "outputs": [],
   "source": [
    "pozice = input(\"Pozice: \")\n",
    "pozice = pozice.strip().lower()\n",
    "df_final = df[df[\"nazev\"].str.contains(pozice)].sort_values(by=[\"platova_trida\"], ascending=False)\n",
    "df_final"
   ]
  },
  {
   "cell_type": "code",
   "execution_count": null,
   "id": "2041c048-00d6-4b83-88e7-b7137bc2b90a",
   "metadata": {},
   "outputs": [],
   "source": []
  }
 ],
 "metadata": {
  "kernelspec": {
   "display_name": "Python 3 (ipykernel)",
   "language": "python",
   "name": "python3"
  },
  "language_info": {
   "codemirror_mode": {
    "name": "ipython",
    "version": 3
   },
   "file_extension": ".py",
   "mimetype": "text/x-python",
   "name": "python",
   "nbconvert_exporter": "python",
   "pygments_lexer": "ipython3",
   "version": "3.9.6"
  }
 },
 "nbformat": 4,
 "nbformat_minor": 5
}
